{
 "cells": [
  {
   "cell_type": "code",
   "execution_count": null,
   "id": "af46c9f2-f960-412f-ae80-e97c1d81c2d5",
   "metadata": {},
   "outputs": [],
   "source": [
    "import matplotlib.pyplot as plt\n",
    "import numpy as np\n",
    "from IPython.display import display\n",
    "from ipywidgets import Output, VBox, HBox, FloatSlider, Layout\n",
    "from traitlets import Float\n",
    "\n",
    "%matplotlib widget\n"
   ]
  },
  {
   "cell_type": "code",
   "execution_count": null,
   "id": "836e8682-1bc9-4065-8718-10fac9a452e4",
   "metadata": {},
   "outputs": [],
   "source": [
    "from traitlets import HasTraits, TraitType\n",
    "from ipywidgets import Output\n",
    "\n",
    "def with_state(fn):\n",
    "    return lambda evt: fn(evt[\"owner\"])\n",
    "\n",
    "class AppState(HasTraits):\n",
    "    widgets: dict\n",
    "    \n",
    "    @property\n",
    "    def traits(self):\n",
    "        return list(self.__dict__.keys())\n",
    "\n",
    "    def to_dict(self):\n",
    "        return self.__dict__\n",
    "    \n",
    "    def register_stateful_widget(self, widget: any, trait_name: str, traitlet: TraitType):\n",
    "        if not hasattr(self, 'widgets'):\n",
    "            self.widgets = {}\n",
    "        self.add_traits(**{trait_name: traitlet})\n",
    "        self.widgets[trait_name] = widget\n",
    "        self.widgets[trait_name].observe(lambda _: self.update_from_ui(), names=[\"value\"])\n",
    "    \n",
    "    def register_stateful_property(self, trait_name: str, traitlet: TraitType):\n",
    "        self.add_traits(**{trait_name: traitlet})\n",
    "    \n",
    "    def register_widget_observer(self, observes: str, observer):\n",
    "        self.widgets[observes].observe(observer, names=[\"value\"])\n",
    "        \n",
    "    def update_from_ui(self):\n",
    "        for name in self.widgets.keys():\n",
    "            setattr(self, name, self.widgets[name].value)\n",
    "\n",
    "    def restore_ui(self):\n",
    "        for name in self.widgets.keys():\n",
    "            self.widgets[name].value = self[name]\n",
    "    \n",
    "    def observe_trait(self, trait_name: str, fn):\n",
    "        def observer(state):\n",
    "            if state[\"name\"] == trait_name:\n",
    "                fn(state)\n",
    "        \n",
    "        return self.observe(observer)\n",
    "        \n",
    "    \n",
    "    @property\n",
    "    def outlet(self):\n",
    "        out = Output()\n",
    "        def print_state(s):\n",
    "            with out:\n",
    "                print(s)\n",
    "        self.observe(print_state)\n",
    "        with out:\n",
    "            print(\"AppState Outlet:\")\n",
    "        return out"
   ]
  },
  {
   "cell_type": "code",
   "execution_count": null,
   "id": "8ac31633-2e52-43a8-9f69-8f77eddc29b9",
   "metadata": {},
   "outputs": [],
   "source": [
    "w_debug_output = Output()\n",
    "state = AppState()\n",
    "\n",
    "plt.ioff()\n",
    "out_fig = plt.figure(figsize=(6,5))\n",
    "out_fig.canvas.header_visible=False\n",
    "out_fig.canvas.footer_visible=False\n",
    "plt.ion()\n",
    "\n",
    "wave_1_amp = FloatSlider(1.0, min=0.1, max=5.0, step=0.1, description=\"1 - Amp\")\n",
    "state.register_stateful_widget(wave_1_amp, \"wave_1_amp\", Float(1.0))\n",
    "wave_1_freq = FloatSlider(0.1, min=0.01, max=0.5, step=0.01, description=\"1 - Freq\")\n",
    "state.register_stateful_widget(wave_1_freq, \"wave_1_freq\", Float(1.0))\n",
    "wave_1_phase = FloatSlider(0.0, min=-np.pi, max=np.pi, step=np.pi/60, description=\"1 - Phase\")\n",
    "state.register_stateful_widget(wave_1_phase, \"wave_1_phase\", Float(1.0))\n",
    "box_wave_1 = VBox([wave_1_amp, wave_1_freq, wave_1_phase])\n",
    "\n",
    "\n",
    "wave_2_amp = FloatSlider(1.4, min=0.1, max=5.0, step=0.1, description=\"2 - Amp\")\n",
    "state.register_stateful_widget(wave_2_amp, \"wave_2_amp\", Float(1.0))\n",
    "wave_2_freq = FloatSlider(0.22, min=0.01, max=0.5, step=0.01, description=\"2 - Freq\")\n",
    "state.register_stateful_widget(wave_2_freq, \"wave_2_freq\", Float(1.0))\n",
    "wave_2_phase = FloatSlider(-np.pi/3, min=-np.pi, max=np.pi, step=np.pi/60, description=\"2 - Phase\")\n",
    "state.register_stateful_widget(wave_2_phase, \"wave_2_phase\", Float(1.0))\n",
    "box_wave_2 = VBox([wave_2_amp, wave_2_freq, wave_2_phase])\n",
    "\n",
    "\n",
    "ui = VBox([box_wave_1, box_wave_2])\n",
    "\n",
    "def update_plot(state):\n",
    "    out_fig.gca().cla()\n",
    "    x = np.linspace(-5,5, 100)\n",
    "    y1 = state.wave_1_amp*np.exp(-1j*(2*np.pi*state.wave_1_freq*x + state.wave_1_phase))\n",
    "    y2 = state.wave_2_amp*np.exp(-1j*(2*np.pi*state.wave_2_freq*x + state.wave_2_phase))\n",
    "    yc = y1 + y2\n",
    "    plt.plot(x, np.real(y1), 'r:')\n",
    "    plt.plot(x, np.real(y2), 'g:')\n",
    "    plt.plot(x, np.real(yc), 'k')    \n",
    "\n",
    "    \n",
    "state.observe(with_state(update_plot))\n",
    "\n",
    "app = HBox([ui, out_fig.canvas])\n",
    "\n",
    "display(app)\n",
    "\n",
    "update_plot(state)\n",
    "\n",
    "display(w_debug_output)\n"
   ]
  },
  {
   "cell_type": "code",
   "execution_count": null,
   "id": "36498139-58ee-49cb-85fb-bbdfc59b31e2",
   "metadata": {},
   "outputs": [],
   "source": []
  }
 ],
 "metadata": {
  "kernelspec": {
   "display_name": "cnpy",
   "language": "python",
   "name": "python3"
  },
  "language_info": {
   "codemirror_mode": {
    "name": "ipython",
    "version": 3
   },
   "file_extension": ".py",
   "mimetype": "text/x-python",
   "name": "python",
   "nbconvert_exporter": "python",
   "pygments_lexer": "ipython3",
   "version": "3.10.8 | packaged by conda-forge | (main, Nov 22 2022, 08:25:29) [Clang 14.0.6 ]"
  },
  "vscode": {
   "interpreter": {
    "hash": "08edab4242f84c76caa84730165399aef6c43c72639f61f273618a485461c167"
   }
  },
  "widgets": {
   "application/vnd.jupyter.widget-state+json": {
    "state": {
     "000ab278cbf04667b4ef531ad0a13636": {
      "model_module": "@jupyter-widgets/controls",
      "model_module_version": "2.0.0",
      "model_name": "FloatSliderModel",
      "state": {
       "behavior": "drag-tap",
       "description": "2 - Freq",
       "layout": "IPY_MODEL_fb0b18b8fad24285ad0bec567a177c36",
       "max": 0.5,
       "min": 0.01,
       "step": 0.01,
       "style": "IPY_MODEL_9744355e58a74d1996a97439d542aecd",
       "value": 0.12
      }
     },
     "00d92aebcd5a4014aff01ff47d235a65": {
      "model_module": "@jupyter-widgets/controls",
      "model_module_version": "2.0.0",
      "model_name": "HBoxModel",
      "state": {
       "children": [
        "IPY_MODEL_6d7e869bc6d54ab7bfaa7a96fb5a4a39",
        "IPY_MODEL_7b3cc83665c04193a76fa014822c0966"
       ],
       "layout": "IPY_MODEL_cd41c959b7e244929026f42073f63356"
      }
     },
     "05a5fe2f545f4b468eba3d7ffd11cb50": {
      "model_module": "@jupyter-widgets/controls",
      "model_module_version": "2.0.0",
      "model_name": "VBoxModel",
      "state": {
       "children": [
        "IPY_MODEL_d6f422e83445494c824fd36499d3432e",
        "IPY_MODEL_7feb3072c52c4721b8c7cd313c5f43c6",
        "IPY_MODEL_ad0269c9cf004c4fa49bc0d20df5a54c"
       ],
       "layout": "IPY_MODEL_db749531c2824f9fb78b41019a5c74fa"
      }
     },
     "0d04da67516343f0acc32b001862bd85": {
      "model_module": "@jupyter-widgets/controls",
      "model_module_version": "2.0.0",
      "model_name": "VBoxModel",
      "state": {
       "children": [
        "IPY_MODEL_3061640b679a4f10818e7bc775686a84",
        "IPY_MODEL_8e884eea54944cada42ad99247dd0ecd",
        "IPY_MODEL_61347a4757dc45cc8be9edbf8d24dd3e"
       ],
       "layout": "IPY_MODEL_7ad625b14d704b39a4db29ac6f0bccae"
      }
     },
     "13e4be0f50524a08bd4147af09c57dc5": {
      "model_module": "@jupyter-widgets/base",
      "model_module_version": "2.0.0",
      "model_name": "LayoutModel",
      "state": {}
     },
     "14d2209490584fd19fe7528cf998b9b5": {
      "model_module": "@jupyter-widgets/controls",
      "model_module_version": "2.0.0",
      "model_name": "FloatSliderModel",
      "state": {
       "behavior": "drag-tap",
       "description": "2 - Phase",
       "layout": "IPY_MODEL_13e4be0f50524a08bd4147af09c57dc5",
       "max": 3.141592653589793,
       "min": -3.141592653589793,
       "step": 0.05235987755982988,
       "style": "IPY_MODEL_be41183ead824b008c0af9482d9226ae",
       "value": -1.0471975511965983
      }
     },
     "1af53dfa28574ec09861c95191abe640": {
      "model_module": "@jupyter-widgets/controls",
      "model_module_version": "2.0.0",
      "model_name": "SliderStyleModel",
      "state": {
       "description_width": ""
      }
     },
     "1bd0ee0c75bc43f4bb3d84da33c383a9": {
      "model_module": "@jupyter-widgets/controls",
      "model_module_version": "2.0.0",
      "model_name": "FloatSliderModel",
      "state": {
       "behavior": "drag-tap",
       "description": "1 - Phase",
       "layout": "IPY_MODEL_53642dc8635645c3a698627583a2ed4e",
       "max": 3.141592653589793,
       "min": -3.141592653589793,
       "step": 0.05235987755982988,
       "style": "IPY_MODEL_d997b1544e224f86bb3ab14e724fd344",
       "value": -1.2566370614359175
      }
     },
     "1d064d28690145869bd6376baa3cc01a": {
      "model_module": "@jupyter-widgets/base",
      "model_module_version": "2.0.0",
      "model_name": "LayoutModel",
      "state": {}
     },
     "1f9fcbbab3804db0aff2e2b5cb314967": {
      "model_module": "@jupyter-widgets/base",
      "model_module_version": "2.0.0",
      "model_name": "LayoutModel",
      "state": {}
     },
     "275c7df520fb4330b4b0dfd3d9aa2c7f": {
      "model_module": "@jupyter-widgets/controls",
      "model_module_version": "2.0.0",
      "model_name": "VBoxModel",
      "state": {
       "children": [
        "IPY_MODEL_988d7be6e4d54e6ea68e28957e6e149b",
        "IPY_MODEL_000ab278cbf04667b4ef531ad0a13636",
        "IPY_MODEL_14d2209490584fd19fe7528cf998b9b5"
       ],
       "layout": "IPY_MODEL_a433a03fc0654851b8dd9ce2a65a94dd"
      }
     },
     "3061640b679a4f10818e7bc775686a84": {
      "model_module": "@jupyter-widgets/controls",
      "model_module_version": "2.0.0",
      "model_name": "FloatSliderModel",
      "state": {
       "behavior": "drag-tap",
       "description": "2 - Amp",
       "layout": "IPY_MODEL_87a2075bcafd4f1888bf04ec99ed9b30",
       "max": 5,
       "min": 0.1,
       "step": 0.1,
       "style": "IPY_MODEL_8a65c4cf1f19423fafc85133f0dc9b43",
       "value": 2.0000000000000004
      }
     },
     "3ae4b8f70fe644c79313acc9de5a08a0": {
      "model_module": "@jupyter-widgets/base",
      "model_module_version": "2.0.0",
      "model_name": "LayoutModel",
      "state": {}
     },
     "4282b458aa514cfaa3b67e65991c11b5": {
      "model_module": "jupyter-matplotlib",
      "model_module_version": "^0.11",
      "model_name": "ToolbarModel",
      "state": {
       "_model_module_version": "^0.11",
       "_view_module_version": "^0.11",
       "collapsed": true,
       "layout": "IPY_MODEL_1f9fcbbab3804db0aff2e2b5cb314967",
       "orientation": "vertical",
       "toolitems": [
        [
         "Home",
         "Reset original view",
         "home",
         "home"
        ],
        [
         "Back",
         "Back to previous view",
         "arrow-left",
         "back"
        ],
        [
         "Forward",
         "Forward to next view",
         "arrow-right",
         "forward"
        ],
        [
         "Pan",
         "Left button pans, Right button zooms\nx/y fixes axis, CTRL fixes aspect",
         "arrows",
         "pan"
        ],
        [
         "Zoom",
         "Zoom to rectangle\nx/y fixes axis",
         "square-o",
         "zoom"
        ],
        [
         "Download",
         "Download plot",
         "floppy-o",
         "save_figure"
        ]
       ]
      }
     },
     "458354634edc441d99faab73f6649bff": {
      "model_module": "@jupyter-widgets/base",
      "model_module_version": "2.0.0",
      "model_name": "LayoutModel",
      "state": {}
     },
     "4d8ae615767442e5800aa161d813df80": {
      "model_module": "@jupyter-widgets/output",
      "model_module_version": "1.0.0",
      "model_name": "OutputModel",
      "state": {
       "layout": "IPY_MODEL_bcee2ec956d6402d8377f8081de4b9ae"
      }
     },
     "53642dc8635645c3a698627583a2ed4e": {
      "model_module": "@jupyter-widgets/base",
      "model_module_version": "2.0.0",
      "model_name": "LayoutModel",
      "state": {}
     },
     "54ab9dbc4b7f4459b2465ad7c7e7cb08": {
      "model_module": "@jupyter-widgets/controls",
      "model_module_version": "2.0.0",
      "model_name": "SliderStyleModel",
      "state": {
       "description_width": ""
      }
     },
     "5cda98ae884e47c8880f6b5ab6e96cac": {
      "model_module": "@jupyter-widgets/controls",
      "model_module_version": "2.0.0",
      "model_name": "SliderStyleModel",
      "state": {
       "description_width": ""
      }
     },
     "5f871eaa339b4c2dbc2f18eb6184ef9b": {
      "model_module": "@jupyter-widgets/controls",
      "model_module_version": "2.0.0",
      "model_name": "HBoxModel",
      "state": {
       "children": [
        "IPY_MODEL_dc0509e81b9e40c9a77b5512f672a970",
        "IPY_MODEL_705bdb80c9ee4742accd29eea0786183"
       ],
       "layout": "IPY_MODEL_3ae4b8f70fe644c79313acc9de5a08a0"
      }
     },
     "61347a4757dc45cc8be9edbf8d24dd3e": {
      "model_module": "@jupyter-widgets/controls",
      "model_module_version": "2.0.0",
      "model_name": "FloatSliderModel",
      "state": {
       "behavior": "drag-tap",
       "description": "2 - Phase",
       "layout": "IPY_MODEL_db7eb79a09554415bcc93c17db70c7e3",
       "max": 3.141592653589793,
       "min": -3.141592653589793,
       "step": 0.05235987755982988,
       "style": "IPY_MODEL_a449daa60f8542f0905921209daabfde",
       "value": 2.146754979953025
      }
     },
     "6136628fb4b24e53bd6e56d3db1bc0f8": {
      "model_module": "@jupyter-widgets/base",
      "model_module_version": "2.0.0",
      "model_name": "LayoutModel",
      "state": {}
     },
     "6d7e869bc6d54ab7bfaa7a96fb5a4a39": {
      "model_module": "@jupyter-widgets/controls",
      "model_module_version": "2.0.0",
      "model_name": "VBoxModel",
      "state": {
       "children": [
        "IPY_MODEL_baa9bda1ddc241d1af12528e89199aac",
        "IPY_MODEL_275c7df520fb4330b4b0dfd3d9aa2c7f"
       ],
       "layout": "IPY_MODEL_970f7675cd234b729cef7d9418ca965e"
      }
     },
     "6e74f4e4fa2644f2947ace58e1991595": {
      "model_module": "@jupyter-widgets/controls",
      "model_module_version": "2.0.0",
      "model_name": "SliderStyleModel",
      "state": {
       "description_width": ""
      }
     },
     "7ad625b14d704b39a4db29ac6f0bccae": {
      "model_module": "@jupyter-widgets/base",
      "model_module_version": "2.0.0",
      "model_name": "LayoutModel",
      "state": {}
     },
     "7b3cc83665c04193a76fa014822c0966": {
      "model_module": "jupyter-matplotlib",
      "model_module_version": "^0.11",
      "model_name": "MPLCanvasModel",
      "state": {
       "_cursor": "default",
       "_data_url": "data:image/png;base64,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",
       "_figure_label": "Figure 1",
       "_image_mode": "diff",
       "_model_module_version": "^0.11",
       "_size": [
        800,
        500
       ],
       "_view_module_version": "^0.11",
       "footer_visible": false,
       "header_visible": false,
       "layout": "IPY_MODEL_dcd8565d5d134c368b4bfe60e4c445af",
       "toolbar": "IPY_MODEL_fd4161dd014b4e31902889ee79c24419",
       "toolbar_position": "left"
      }
     },
     "7feb3072c52c4721b8c7cd313c5f43c6": {
      "model_module": "@jupyter-widgets/controls",
      "model_module_version": "2.0.0",
      "model_name": "FloatSliderModel",
      "state": {
       "behavior": "drag-tap",
       "description": "1 - Freq",
       "layout": "IPY_MODEL_d5e2e5ba1fd442a38780fda5c584e68c",
       "max": 0.5,
       "min": 0.01,
       "step": 0.01,
       "style": "IPY_MODEL_8aac3af68c1a4d13ad5b8e820e3b8b44",
       "value": 0.36
      }
     },
     "816eef12fb2649d8b216846d5b8b5529": {
      "model_module": "@jupyter-widgets/base",
      "model_module_version": "2.0.0",
      "model_name": "LayoutModel",
      "state": {}
     },
     "87a2075bcafd4f1888bf04ec99ed9b30": {
      "model_module": "@jupyter-widgets/base",
      "model_module_version": "2.0.0",
      "model_name": "LayoutModel",
      "state": {}
     },
     "8a65c4cf1f19423fafc85133f0dc9b43": {
      "model_module": "@jupyter-widgets/controls",
      "model_module_version": "2.0.0",
      "model_name": "SliderStyleModel",
      "state": {
       "description_width": ""
      }
     },
     "8aac3af68c1a4d13ad5b8e820e3b8b44": {
      "model_module": "@jupyter-widgets/controls",
      "model_module_version": "2.0.0",
      "model_name": "SliderStyleModel",
      "state": {
       "description_width": ""
      }
     },
     "8e884eea54944cada42ad99247dd0ecd": {
      "model_module": "@jupyter-widgets/controls",
      "model_module_version": "2.0.0",
      "model_name": "FloatSliderModel",
      "state": {
       "behavior": "drag-tap",
       "description": "2 - Freq",
       "layout": "IPY_MODEL_458354634edc441d99faab73f6649bff",
       "max": 0.5,
       "min": 0.01,
       "step": 0.01,
       "style": "IPY_MODEL_1af53dfa28574ec09861c95191abe640",
       "value": 0.36
      }
     },
     "903b0f4ab2e54b3e929c5534f241ae4d": {
      "model_module": "@jupyter-widgets/output",
      "model_module_version": "1.0.0",
      "model_name": "OutputModel",
      "state": {
       "layout": "IPY_MODEL_1d064d28690145869bd6376baa3cc01a"
      }
     },
     "970f7675cd234b729cef7d9418ca965e": {
      "model_module": "@jupyter-widgets/base",
      "model_module_version": "2.0.0",
      "model_name": "LayoutModel",
      "state": {}
     },
     "9744355e58a74d1996a97439d542aecd": {
      "model_module": "@jupyter-widgets/controls",
      "model_module_version": "2.0.0",
      "model_name": "SliderStyleModel",
      "state": {
       "description_width": ""
      }
     },
     "988d7be6e4d54e6ea68e28957e6e149b": {
      "model_module": "@jupyter-widgets/controls",
      "model_module_version": "2.0.0",
      "model_name": "FloatSliderModel",
      "state": {
       "behavior": "drag-tap",
       "description": "2 - Amp",
       "layout": "IPY_MODEL_816eef12fb2649d8b216846d5b8b5529",
       "max": 5,
       "min": 0.1,
       "step": 0.1,
       "style": "IPY_MODEL_9b96940a9a1040918724eaf7765197a5",
       "value": 3.400000000000001
      }
     },
     "9a5323da5f074da583f46f2572e6d0e9": {
      "model_module": "@jupyter-widgets/base",
      "model_module_version": "2.0.0",
      "model_name": "LayoutModel",
      "state": {}
     },
     "9b96940a9a1040918724eaf7765197a5": {
      "model_module": "@jupyter-widgets/controls",
      "model_module_version": "2.0.0",
      "model_name": "SliderStyleModel",
      "state": {
       "description_width": ""
      }
     },
     "a433a03fc0654851b8dd9ce2a65a94dd": {
      "model_module": "@jupyter-widgets/base",
      "model_module_version": "2.0.0",
      "model_name": "LayoutModel",
      "state": {}
     },
     "a449daa60f8542f0905921209daabfde": {
      "model_module": "@jupyter-widgets/controls",
      "model_module_version": "2.0.0",
      "model_name": "SliderStyleModel",
      "state": {
       "description_width": ""
      }
     },
     "ad0269c9cf004c4fa49bc0d20df5a54c": {
      "model_module": "@jupyter-widgets/controls",
      "model_module_version": "2.0.0",
      "model_name": "FloatSliderModel",
      "state": {
       "behavior": "drag-tap",
       "description": "1 - Phase",
       "layout": "IPY_MODEL_6136628fb4b24e53bd6e56d3db1bc0f8",
       "max": 3.141592653589793,
       "min": -3.141592653589793,
       "step": 0.05235987755982988,
       "style": "IPY_MODEL_6e74f4e4fa2644f2947ace58e1991595",
       "value": -2.0420352248333655
      }
     },
     "b1091f9cac304ee78ec7dc78e478dd6f": {
      "model_module": "@jupyter-widgets/base",
      "model_module_version": "2.0.0",
      "model_name": "LayoutModel",
      "state": {}
     },
     "b2b5ec24cdd746d39b906ee314894731": {
      "model_module": "@jupyter-widgets/base",
      "model_module_version": "2.0.0",
      "model_name": "LayoutModel",
      "state": {}
     },
     "b548a3bb2a81413cabb992466bf96cab": {
      "model_module": "@jupyter-widgets/controls",
      "model_module_version": "2.0.0",
      "model_name": "FloatSliderModel",
      "state": {
       "behavior": "drag-tap",
       "description": "1 - Freq",
       "layout": "IPY_MODEL_b1091f9cac304ee78ec7dc78e478dd6f",
       "max": 0.5,
       "min": 0.01,
       "step": 0.01,
       "style": "IPY_MODEL_5cda98ae884e47c8880f6b5ab6e96cac",
       "value": 0.09999999999999999
      }
     },
     "baa9bda1ddc241d1af12528e89199aac": {
      "model_module": "@jupyter-widgets/controls",
      "model_module_version": "2.0.0",
      "model_name": "VBoxModel",
      "state": {
       "children": [
        "IPY_MODEL_ca30f538cca84d1695fabea18381c968",
        "IPY_MODEL_b548a3bb2a81413cabb992466bf96cab",
        "IPY_MODEL_1bd0ee0c75bc43f4bb3d84da33c383a9"
       ],
       "layout": "IPY_MODEL_b2b5ec24cdd746d39b906ee314894731"
      }
     },
     "bcee2ec956d6402d8377f8081de4b9ae": {
      "model_module": "@jupyter-widgets/base",
      "model_module_version": "2.0.0",
      "model_name": "LayoutModel",
      "state": {}
     },
     "be41183ead824b008c0af9482d9226ae": {
      "model_module": "@jupyter-widgets/controls",
      "model_module_version": "2.0.0",
      "model_name": "SliderStyleModel",
      "state": {
       "description_width": ""
      }
     },
     "be77496003c74720920d288f8f2c4ac0": {
      "model_module": "@jupyter-widgets/base",
      "model_module_version": "2.0.0",
      "model_name": "LayoutModel",
      "state": {}
     },
     "c15f284ebb864aaead7ecd7dd642f7c6": {
      "model_module": "@jupyter-widgets/controls",
      "model_module_version": "2.0.0",
      "model_name": "SliderStyleModel",
      "state": {
       "description_width": ""
      }
     },
     "ca30f538cca84d1695fabea18381c968": {
      "model_module": "@jupyter-widgets/controls",
      "model_module_version": "2.0.0",
      "model_name": "FloatSliderModel",
      "state": {
       "behavior": "drag-tap",
       "description": "1 - Amp",
       "layout": "IPY_MODEL_f2ac994b5eb449bf8c1e33a0e469d182",
       "max": 5,
       "min": 0.1,
       "step": 0.1,
       "style": "IPY_MODEL_c15f284ebb864aaead7ecd7dd642f7c6",
       "value": 1.0000000000000002
      }
     },
     "cd41c959b7e244929026f42073f63356": {
      "model_module": "@jupyter-widgets/base",
      "model_module_version": "2.0.0",
      "model_name": "LayoutModel",
      "state": {}
     },
     "d01a20a896a244d2a18eaad3b74b0b7e": {
      "model_module": "@jupyter-widgets/base",
      "model_module_version": "2.0.0",
      "model_name": "LayoutModel",
      "state": {}
     },
     "d5e2e5ba1fd442a38780fda5c584e68c": {
      "model_module": "@jupyter-widgets/base",
      "model_module_version": "2.0.0",
      "model_name": "LayoutModel",
      "state": {}
     },
     "d6f422e83445494c824fd36499d3432e": {
      "model_module": "@jupyter-widgets/controls",
      "model_module_version": "2.0.0",
      "model_name": "FloatSliderModel",
      "state": {
       "behavior": "drag-tap",
       "description": "1 - Amp",
       "layout": "IPY_MODEL_9a5323da5f074da583f46f2572e6d0e9",
       "max": 5,
       "min": 0.1,
       "step": 0.1,
       "style": "IPY_MODEL_54ab9dbc4b7f4459b2465ad7c7e7cb08",
       "value": 0.9000000000000001
      }
     },
     "d997b1544e224f86bb3ab14e724fd344": {
      "model_module": "@jupyter-widgets/controls",
      "model_module_version": "2.0.0",
      "model_name": "SliderStyleModel",
      "state": {
       "description_width": ""
      }
     },
     "db749531c2824f9fb78b41019a5c74fa": {
      "model_module": "@jupyter-widgets/base",
      "model_module_version": "2.0.0",
      "model_name": "LayoutModel",
      "state": {}
     },
     "db7eb79a09554415bcc93c17db70c7e3": {
      "model_module": "@jupyter-widgets/base",
      "model_module_version": "2.0.0",
      "model_name": "LayoutModel",
      "state": {}
     },
     "dc0509e81b9e40c9a77b5512f672a970": {
      "model_module": "@jupyter-widgets/controls",
      "model_module_version": "2.0.0",
      "model_name": "VBoxModel",
      "state": {
       "children": [
        "IPY_MODEL_05a5fe2f545f4b468eba3d7ffd11cb50",
        "IPY_MODEL_0d04da67516343f0acc32b001862bd85"
       ],
       "layout": "IPY_MODEL_be77496003c74720920d288f8f2c4ac0"
      }
     },
     "dcd8565d5d134c368b4bfe60e4c445af": {
      "model_module": "@jupyter-widgets/base",
      "model_module_version": "2.0.0",
      "model_name": "LayoutModel",
      "state": {}
     },
     "df26703c42ef46e98f6c67ac71106f46": {
      "model_module": "@jupyter-widgets/base",
      "model_module_version": "2.0.0",
      "model_name": "LayoutModel",
      "state": {}
     },
     "f2ac994b5eb449bf8c1e33a0e469d182": {
      "model_module": "@jupyter-widgets/base",
      "model_module_version": "2.0.0",
      "model_name": "LayoutModel",
      "state": {}
     },
     "fb0b18b8fad24285ad0bec567a177c36": {
      "model_module": "@jupyter-widgets/base",
      "model_module_version": "2.0.0",
      "model_name": "LayoutModel",
      "state": {}
     },
     "fd4161dd014b4e31902889ee79c24419": {
      "model_module": "jupyter-matplotlib",
      "model_module_version": "^0.11",
      "model_name": "ToolbarModel",
      "state": {
       "_model_module_version": "^0.11",
       "_view_module_version": "^0.11",
       "collapsed": true,
       "layout": "IPY_MODEL_d01a20a896a244d2a18eaad3b74b0b7e",
       "orientation": "vertical",
       "toolitems": [
        [
         "Home",
         "Reset original view",
         "home",
         "home"
        ],
        [
         "Back",
         "Back to previous view",
         "arrow-left",
         "back"
        ],
        [
         "Forward",
         "Forward to next view",
         "arrow-right",
         "forward"
        ],
        [
         "Pan",
         "Left button pans, Right button zooms\nx/y fixes axis, CTRL fixes aspect",
         "arrows",
         "pan"
        ],
        [
         "Zoom",
         "Zoom to rectangle\nx/y fixes axis",
         "square-o",
         "zoom"
        ],
        [
         "Download",
         "Download plot",
         "floppy-o",
         "save_figure"
        ]
       ]
      }
     }
    },
    "version_major": 2,
    "version_minor": 0
   }
  }
 },
 "nbformat": 4,
 "nbformat_minor": 5
}
